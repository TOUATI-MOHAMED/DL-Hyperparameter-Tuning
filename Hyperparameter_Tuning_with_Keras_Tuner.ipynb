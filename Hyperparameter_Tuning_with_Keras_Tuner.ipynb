{
  "nbformat": 4,
  "nbformat_minor": 0,
  "metadata": {
    "colab": {
      "provenance": []
    },
    "kernelspec": {
      "name": "python3",
      "display_name": "Python 3"
    },
    "language_info": {
      "name": "python"
    },
    "accelerator": "GPU",
    "gpuClass": "standard"
  },
  "cells": [
    {
      "cell_type": "code",
      "source": [
        "!pip install -q -U keras-tuner"
      ],
      "metadata": {
        "id": "iZ93_csyI7S9"
      },
      "execution_count": null,
      "outputs": []
    },
    {
      "cell_type": "code",
      "source": [
        "import tensorflow as tf"
      ],
      "metadata": {
        "id": "M4-PVPYDI1sw"
      },
      "execution_count": null,
      "outputs": []
    },
    {
      "cell_type": "code",
      "source": [
        "(X_train, y_train), (X_test, y_test) = tf.keras.datasets.mnist.load_data()\n",
        "\n",
        "(X_train.shape, y_train.shape), (X_test.shape, y_test.shape)"
      ],
      "metadata": {
        "colab": {
          "base_uri": "https://localhost:8080/"
        },
        "id": "J6PZ4t0QI985",
        "outputId": "98298c54-fa9c-41e9-c1d2-1643bc95bfeb"
      },
      "execution_count": null,
      "outputs": [
        {
          "output_type": "stream",
          "name": "stdout",
          "text": [
            "Downloading data from https://storage.googleapis.com/tensorflow/tf-keras-datasets/mnist.npz\n",
            "11493376/11490434 [==============================] - 0s 0us/step\n",
            "11501568/11490434 [==============================] - 0s 0us/step\n"
          ]
        },
        {
          "output_type": "execute_result",
          "data": {
            "text/plain": [
              "(((60000, 28, 28), (60000,)), ((10000, 28, 28), (10000,)))"
            ]
          },
          "metadata": {},
          "execution_count": 6
        }
      ]
    },
    {
      "cell_type": "code",
      "source": [
        "X_train = X_train / 255.0\n",
        "X_test = X_test / 255.0\n",
        "X_train.min(), X_train.max()"
      ],
      "metadata": {
        "colab": {
          "base_uri": "https://localhost:8080/"
        },
        "id": "TAzp3eY_JKkP",
        "outputId": "6884b0af-c1ad-4508-e0dc-4418c3196543"
      },
      "execution_count": null,
      "outputs": [
        {
          "output_type": "execute_result",
          "data": {
            "text/plain": [
              "(0.0, 1.0)"
            ]
          },
          "metadata": {},
          "execution_count": 7
        }
      ]
    },
    {
      "cell_type": "code",
      "source": [
        "def model_builder(hp):\n",
        "  model = tf.keras.Sequential()\n",
        "  model.add(tf.keras.layers.Flatten(input_shape=(28, 28)))\n",
        "\n",
        "  hp_activation = hp.Choice('activation', values=['relu', 'tanh'])\n",
        "  hp_layer_1 = hp.Int('layer_1', min_value=1, max_value=1000, step=100)\n",
        "  hp_layer_2 = hp.Int('layer_2', min_value=1, max_value=1000, step=100)\n",
        "  hp_learning_rate = hp.Choice('learning_rate', values=[1e-2, 1e-3, 1e-4])\n",
        "\n",
        "  model.add(tf.keras.layers.Dense(units=hp_layer_1, activation=hp_activation))\n",
        "  model.add(tf.keras.layers.Dense(units=hp_layer_2, activation=hp_activation))\n",
        "  model.add(tf.keras.layers.Dense(10, activation='softmax'))\n",
        "\n",
        "  model.compile(optimizer=tf.keras.optimizers.Adam(learning_rate=hp_learning_rate),\n",
        "                loss=tf.keras.losses.SparseCategoricalCrossentropy(),\n",
        "                metrics=['accuracy'])\n",
        "\n",
        "  return model"
      ],
      "metadata": {
        "id": "LCoeIxfGJWfx"
      },
      "execution_count": null,
      "outputs": []
    },
    {
      "cell_type": "code",
      "source": [
        "import keras_tuner as kt\n",
        "\n",
        "tuner = kt.Hyperband(model_builder,\n",
        "                     objective='val_accuracy',\n",
        "                     max_epochs=10,\n",
        "                     factor=3,\n",
        "                     directory='dir',\n",
        "                     project_name='x')"
      ],
      "metadata": {
        "id": "Tcm3BaPaMeRQ"
      },
      "execution_count": null,
      "outputs": []
    },
    {
      "cell_type": "code",
      "source": [
        "stop_early = tf.keras.callbacks.EarlyStopping(monitor='val_loss', patience=3)"
      ],
      "metadata": {
        "id": "NL8vGgEcNCCq"
      },
      "execution_count": null,
      "outputs": []
    },
    {
      "cell_type": "code",
      "source": [
        "tuner.search(X_train, y_train, epochs=50, validation_split=0.2, callbacks=[stop_early])"
      ],
      "metadata": {
        "colab": {
          "base_uri": "https://localhost:8080/"
        },
        "id": "L2kPvPwzNK2p",
        "outputId": "90c307b9-c9c5-4e7a-baba-3e3b72715a66"
      },
      "execution_count": null,
      "outputs": [
        {
          "output_type": "stream",
          "name": "stdout",
          "text": [
            "Trial 30 Complete [00h 01m 05s]\n",
            "val_accuracy: 0.9715833067893982\n",
            "\n",
            "Best val_accuracy So Far: 0.9782500267028809\n",
            "Total elapsed time: 00h 10m 34s\n",
            "INFO:tensorflow:Oracle triggered exit\n"
          ]
        }
      ]
    },
    {
      "cell_type": "code",
      "source": [
        "best_hps = tuner.get_best_hyperparameters(num_trials=1)[0]"
      ],
      "metadata": {
        "id": "9XMqxTJAQGMd"
      },
      "execution_count": null,
      "outputs": []
    },
    {
      "cell_type": "code",
      "source": [
        "model = tuner.hypermodel.build(best_hps)\n",
        "history = model.fit(X_train, y_train, epochs=50, validation_split=0.2,\n",
        "                    callbacks=[stop_early])"
      ],
      "metadata": {
        "colab": {
          "base_uri": "https://localhost:8080/"
        },
        "id": "7V3CCiPYQLdK",
        "outputId": "84296b9c-d83d-4819-e16b-d8283e0d519d"
      },
      "execution_count": null,
      "outputs": [
        {
          "output_type": "stream",
          "name": "stdout",
          "text": [
            "Epoch 1/50\n",
            "1500/1500 [==============================] - 5s 3ms/step - loss: 0.3258 - accuracy: 0.9125 - val_loss: 0.1681 - val_accuracy: 0.9524\n",
            "Epoch 2/50\n",
            "1500/1500 [==============================] - 4s 3ms/step - loss: 0.1304 - accuracy: 0.9631 - val_loss: 0.1195 - val_accuracy: 0.9634\n",
            "Epoch 3/50\n",
            "1500/1500 [==============================] - 4s 3ms/step - loss: 0.0861 - accuracy: 0.9754 - val_loss: 0.0948 - val_accuracy: 0.9714\n",
            "Epoch 4/50\n",
            "1500/1500 [==============================] - 4s 3ms/step - loss: 0.0607 - accuracy: 0.9827 - val_loss: 0.0940 - val_accuracy: 0.9722\n",
            "Epoch 5/50\n",
            "1500/1500 [==============================] - 4s 3ms/step - loss: 0.0446 - accuracy: 0.9873 - val_loss: 0.0849 - val_accuracy: 0.9753\n",
            "Epoch 6/50\n",
            "1500/1500 [==============================] - 4s 3ms/step - loss: 0.0316 - accuracy: 0.9914 - val_loss: 0.0788 - val_accuracy: 0.9758\n",
            "Epoch 7/50\n",
            "1500/1500 [==============================] - 4s 3ms/step - loss: 0.0224 - accuracy: 0.9942 - val_loss: 0.0755 - val_accuracy: 0.9783\n",
            "Epoch 8/50\n",
            "1500/1500 [==============================] - 4s 3ms/step - loss: 0.0167 - accuracy: 0.9960 - val_loss: 0.0853 - val_accuracy: 0.9753\n",
            "Epoch 9/50\n",
            "1500/1500 [==============================] - 4s 3ms/step - loss: 0.0127 - accuracy: 0.9966 - val_loss: 0.0856 - val_accuracy: 0.9766\n",
            "Epoch 10/50\n",
            "1500/1500 [==============================] - 4s 3ms/step - loss: 0.0098 - accuracy: 0.9977 - val_loss: 0.0807 - val_accuracy: 0.9785\n"
          ]
        }
      ]
    },
    {
      "cell_type": "code",
      "source": [
        "history.history"
      ],
      "metadata": {
        "colab": {
          "base_uri": "https://localhost:8080/"
        },
        "id": "KIN0OEssQfsO",
        "outputId": "d205d51b-fac9-4702-8430-0916fab56f15"
      },
      "execution_count": null,
      "outputs": [
        {
          "output_type": "execute_result",
          "data": {
            "text/plain": [
              "{'accuracy': [0.9125000238418579,\n",
              "  0.9630833268165588,\n",
              "  0.9754166603088379,\n",
              "  0.9826874732971191,\n",
              "  0.9873124957084656,\n",
              "  0.9913958311080933,\n",
              "  0.9942291378974915,\n",
              "  0.9959791898727417,\n",
              "  0.9966458082199097,\n",
              "  0.9976875185966492],\n",
              " 'loss': [0.3257654905319214,\n",
              "  0.13043266534805298,\n",
              "  0.08612470328807831,\n",
              "  0.06069627031683922,\n",
              "  0.04457419738173485,\n",
              "  0.031559739261865616,\n",
              "  0.022377487272024155,\n",
              "  0.01674342155456543,\n",
              "  0.012683684006333351,\n",
              "  0.009827525354921818],\n",
              " 'val_accuracy': [0.9524166584014893,\n",
              "  0.9634166955947876,\n",
              "  0.9714166522026062,\n",
              "  0.9722499847412109,\n",
              "  0.9752500057220459,\n",
              "  0.9757500290870667,\n",
              "  0.9783333539962769,\n",
              "  0.9753333330154419,\n",
              "  0.9765833616256714,\n",
              "  0.9785000085830688],\n",
              " 'val_loss': [0.16807805001735687,\n",
              "  0.11949089914560318,\n",
              "  0.09482535719871521,\n",
              "  0.09396205842494965,\n",
              "  0.08494479954242706,\n",
              "  0.07883040606975555,\n",
              "  0.07549740374088287,\n",
              "  0.08532540500164032,\n",
              "  0.08558475971221924,\n",
              "  0.080709308385849]}"
            ]
          },
          "metadata": {},
          "execution_count": 17
        }
      ]
    },
    {
      "cell_type": "code",
      "source": [
        "import pandas as pd\n",
        "\n",
        "pd.DataFrame(history.history)"
      ],
      "metadata": {
        "colab": {
          "base_uri": "https://localhost:8080/",
          "height": 363
        },
        "id": "1ybjgdbNQwZy",
        "outputId": "ec0e9054-f9da-4108-9019-d09b470efb3f"
      },
      "execution_count": null,
      "outputs": [
        {
          "output_type": "execute_result",
          "data": {
            "text/plain": [
              "       loss  accuracy  val_loss  val_accuracy\n",
              "0  0.325765  0.912500  0.168078      0.952417\n",
              "1  0.130433  0.963083  0.119491      0.963417\n",
              "2  0.086125  0.975417  0.094825      0.971417\n",
              "3  0.060696  0.982687  0.093962      0.972250\n",
              "4  0.044574  0.987312  0.084945      0.975250\n",
              "5  0.031560  0.991396  0.078830      0.975750\n",
              "6  0.022377  0.994229  0.075497      0.978333\n",
              "7  0.016743  0.995979  0.085325      0.975333\n",
              "8  0.012684  0.996646  0.085585      0.976583\n",
              "9  0.009828  0.997688  0.080709      0.978500"
            ],
            "text/html": [
              "\n",
              "  <div id=\"df-040f357d-4b2d-4f84-9470-a74bb8271811\">\n",
              "    <div class=\"colab-df-container\">\n",
              "      <div>\n",
              "<style scoped>\n",
              "    .dataframe tbody tr th:only-of-type {\n",
              "        vertical-align: middle;\n",
              "    }\n",
              "\n",
              "    .dataframe tbody tr th {\n",
              "        vertical-align: top;\n",
              "    }\n",
              "\n",
              "    .dataframe thead th {\n",
              "        text-align: right;\n",
              "    }\n",
              "</style>\n",
              "<table border=\"1\" class=\"dataframe\">\n",
              "  <thead>\n",
              "    <tr style=\"text-align: right;\">\n",
              "      <th></th>\n",
              "      <th>loss</th>\n",
              "      <th>accuracy</th>\n",
              "      <th>val_loss</th>\n",
              "      <th>val_accuracy</th>\n",
              "    </tr>\n",
              "  </thead>\n",
              "  <tbody>\n",
              "    <tr>\n",
              "      <th>0</th>\n",
              "      <td>0.325765</td>\n",
              "      <td>0.912500</td>\n",
              "      <td>0.168078</td>\n",
              "      <td>0.952417</td>\n",
              "    </tr>\n",
              "    <tr>\n",
              "      <th>1</th>\n",
              "      <td>0.130433</td>\n",
              "      <td>0.963083</td>\n",
              "      <td>0.119491</td>\n",
              "      <td>0.963417</td>\n",
              "    </tr>\n",
              "    <tr>\n",
              "      <th>2</th>\n",
              "      <td>0.086125</td>\n",
              "      <td>0.975417</td>\n",
              "      <td>0.094825</td>\n",
              "      <td>0.971417</td>\n",
              "    </tr>\n",
              "    <tr>\n",
              "      <th>3</th>\n",
              "      <td>0.060696</td>\n",
              "      <td>0.982687</td>\n",
              "      <td>0.093962</td>\n",
              "      <td>0.972250</td>\n",
              "    </tr>\n",
              "    <tr>\n",
              "      <th>4</th>\n",
              "      <td>0.044574</td>\n",
              "      <td>0.987312</td>\n",
              "      <td>0.084945</td>\n",
              "      <td>0.975250</td>\n",
              "    </tr>\n",
              "    <tr>\n",
              "      <th>5</th>\n",
              "      <td>0.031560</td>\n",
              "      <td>0.991396</td>\n",
              "      <td>0.078830</td>\n",
              "      <td>0.975750</td>\n",
              "    </tr>\n",
              "    <tr>\n",
              "      <th>6</th>\n",
              "      <td>0.022377</td>\n",
              "      <td>0.994229</td>\n",
              "      <td>0.075497</td>\n",
              "      <td>0.978333</td>\n",
              "    </tr>\n",
              "    <tr>\n",
              "      <th>7</th>\n",
              "      <td>0.016743</td>\n",
              "      <td>0.995979</td>\n",
              "      <td>0.085325</td>\n",
              "      <td>0.975333</td>\n",
              "    </tr>\n",
              "    <tr>\n",
              "      <th>8</th>\n",
              "      <td>0.012684</td>\n",
              "      <td>0.996646</td>\n",
              "      <td>0.085585</td>\n",
              "      <td>0.976583</td>\n",
              "    </tr>\n",
              "    <tr>\n",
              "      <th>9</th>\n",
              "      <td>0.009828</td>\n",
              "      <td>0.997688</td>\n",
              "      <td>0.080709</td>\n",
              "      <td>0.978500</td>\n",
              "    </tr>\n",
              "  </tbody>\n",
              "</table>\n",
              "</div>\n",
              "      <button class=\"colab-df-convert\" onclick=\"convertToInteractive('df-040f357d-4b2d-4f84-9470-a74bb8271811')\"\n",
              "              title=\"Convert this dataframe to an interactive table.\"\n",
              "              style=\"display:none;\">\n",
              "        \n",
              "  <svg xmlns=\"http://www.w3.org/2000/svg\" height=\"24px\"viewBox=\"0 0 24 24\"\n",
              "       width=\"24px\">\n",
              "    <path d=\"M0 0h24v24H0V0z\" fill=\"none\"/>\n",
              "    <path d=\"M18.56 5.44l.94 2.06.94-2.06 2.06-.94-2.06-.94-.94-2.06-.94 2.06-2.06.94zm-11 1L8.5 8.5l.94-2.06 2.06-.94-2.06-.94L8.5 2.5l-.94 2.06-2.06.94zm10 10l.94 2.06.94-2.06 2.06-.94-2.06-.94-.94-2.06-.94 2.06-2.06.94z\"/><path d=\"M17.41 7.96l-1.37-1.37c-.4-.4-.92-.59-1.43-.59-.52 0-1.04.2-1.43.59L10.3 9.45l-7.72 7.72c-.78.78-.78 2.05 0 2.83L4 21.41c.39.39.9.59 1.41.59.51 0 1.02-.2 1.41-.59l7.78-7.78 2.81-2.81c.8-.78.8-2.07 0-2.86zM5.41 20L4 18.59l7.72-7.72 1.47 1.35L5.41 20z\"/>\n",
              "  </svg>\n",
              "      </button>\n",
              "      \n",
              "  <style>\n",
              "    .colab-df-container {\n",
              "      display:flex;\n",
              "      flex-wrap:wrap;\n",
              "      gap: 12px;\n",
              "    }\n",
              "\n",
              "    .colab-df-convert {\n",
              "      background-color: #E8F0FE;\n",
              "      border: none;\n",
              "      border-radius: 50%;\n",
              "      cursor: pointer;\n",
              "      display: none;\n",
              "      fill: #1967D2;\n",
              "      height: 32px;\n",
              "      padding: 0 0 0 0;\n",
              "      width: 32px;\n",
              "    }\n",
              "\n",
              "    .colab-df-convert:hover {\n",
              "      background-color: #E2EBFA;\n",
              "      box-shadow: 0px 1px 2px rgba(60, 64, 67, 0.3), 0px 1px 3px 1px rgba(60, 64, 67, 0.15);\n",
              "      fill: #174EA6;\n",
              "    }\n",
              "\n",
              "    [theme=dark] .colab-df-convert {\n",
              "      background-color: #3B4455;\n",
              "      fill: #D2E3FC;\n",
              "    }\n",
              "\n",
              "    [theme=dark] .colab-df-convert:hover {\n",
              "      background-color: #434B5C;\n",
              "      box-shadow: 0px 1px 3px 1px rgba(0, 0, 0, 0.15);\n",
              "      filter: drop-shadow(0px 1px 2px rgba(0, 0, 0, 0.3));\n",
              "      fill: #FFFFFF;\n",
              "    }\n",
              "  </style>\n",
              "\n",
              "      <script>\n",
              "        const buttonEl =\n",
              "          document.querySelector('#df-040f357d-4b2d-4f84-9470-a74bb8271811 button.colab-df-convert');\n",
              "        buttonEl.style.display =\n",
              "          google.colab.kernel.accessAllowed ? 'block' : 'none';\n",
              "\n",
              "        async function convertToInteractive(key) {\n",
              "          const element = document.querySelector('#df-040f357d-4b2d-4f84-9470-a74bb8271811');\n",
              "          const dataTable =\n",
              "            await google.colab.kernel.invokeFunction('convertToInteractive',\n",
              "                                                     [key], {});\n",
              "          if (!dataTable) return;\n",
              "\n",
              "          const docLinkHtml = 'Like what you see? Visit the ' +\n",
              "            '<a target=\"_blank\" href=https://colab.research.google.com/notebooks/data_table.ipynb>data table notebook</a>'\n",
              "            + ' to learn more about interactive tables.';\n",
              "          element.innerHTML = '';\n",
              "          dataTable['output_type'] = 'display_data';\n",
              "          await google.colab.output.renderOutput(dataTable, element);\n",
              "          const docLink = document.createElement('div');\n",
              "          docLink.innerHTML = docLinkHtml;\n",
              "          element.appendChild(docLink);\n",
              "        }\n",
              "      </script>\n",
              "    </div>\n",
              "  </div>\n",
              "  "
            ]
          },
          "metadata": {},
          "execution_count": 18
        }
      ]
    }
  ]
}